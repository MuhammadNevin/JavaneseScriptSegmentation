{
 "cells": [
  {
   "cell_type": "code",
   "execution_count": 1,
   "metadata": {},
   "outputs": [
    {
     "name": "stdout",
     "output_type": "stream",
     "text": [
      "Number of files:  58\n",
      "Number of unique char:  42\n",
      "Number of unique char:  44\n"
     ]
    }
   ],
   "source": [
    "## CREATE CHAR DICTIONARY\n",
    "from glob import glob\n",
    "# get all file path in dataset\n",
    "\n",
    "files = glob('../generated/**/*.txt', recursive=True)\n",
    "print('Number of files: ', len(files))\n",
    "\n",
    "# get character set\n",
    "def get_char(text):\n",
    "    return set(text)\n",
    "\n",
    "# Create character set from all file in dataset\n",
    "\n",
    "CHARSET = set()\n",
    "for fpath in files:\n",
    "    with open(fpath, mode='r', encoding=\"utf8\", errors=\"ignore\") as file:\n",
    "        text = file.read()  # read file\n",
    "        CHARSET = CHARSET.union(get_char(text))\n",
    "\n",
    "CHARSET = sorted(CHARSET)  # sorting char\n",
    "print('Number of unique char: ', len(CHARSET))\n",
    "\n",
    "# Create char index dictionary and append <pad>, <unk>\n",
    "# <pad>: for blank char\n",
    "# <unk>: for unknow char\n",
    "\n",
    "CHAR_INDICES = dict((c, i) for i, c in enumerate(CHARSET))\n",
    "CHAR_INDICES['<pad>'] = len(CHAR_INDICES)\n",
    "CHAR_INDICES['<unk>'] = len(CHAR_INDICES)\n",
    "\n",
    "# INDICES_CHAR = dict((i, c) for i, c in enumerate(CHAR_INDICES))\n",
    "\n",
    "print('Number of unique char: ', len(CHAR_INDICES))\n",
    "\n",
    "# save to json file\n",
    "\n",
    "import json\n",
    "\n",
    "def to_json(fname, data_dict):\n",
    "    json_data = json.dumps(data_dict)\n",
    "    with open(fname,'w') as file:\n",
    "        file.write(json_data)\n",
    "        \n",
    "# save dictionary\n",
    "to_json('../models/CHAR_INDICES.json', CHAR_INDICES)"
   ]
  }
 ],
 "metadata": {
  "kernelspec": {
   "display_name": "tf-gpu1",
   "language": "python",
   "name": "python3"
  },
  "language_info": {
   "codemirror_mode": {
    "name": "ipython",
    "version": 3
   },
   "file_extension": ".py",
   "mimetype": "text/x-python",
   "name": "python",
   "nbconvert_exporter": "python",
   "pygments_lexer": "ipython3",
   "version": "3.9.19"
  }
 },
 "nbformat": 4,
 "nbformat_minor": 2
}

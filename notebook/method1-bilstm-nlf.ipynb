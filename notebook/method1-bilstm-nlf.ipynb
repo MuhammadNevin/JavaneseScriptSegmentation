{
 "cells": [
  {
   "cell_type": "code",
   "execution_count": 1,
   "metadata": {},
   "outputs": [],
   "source": [
    "import json\n",
    "import numpy as np\n",
    "import random, math\n",
    "import copy\n",
    "\n",
    "def read_json(fname, key_int=False):\n",
    "    with open(fname, 'r') as file:\n",
    "        data = file.read()\n",
    "        json_data = json.loads(data)\n",
    "        \n",
    "        if not key_int:\n",
    "            return json_data\n",
    "        \n",
    "        json_data = {int(key): value for key, value in json_data.items()}\n",
    "        return json_data\n",
    "    \n",
    "CHAR_INDICES = read_json('../models/CHAR_INDICES.json', key_int=False)"
   ]
  },
  {
   "cell_type": "code",
   "execution_count": 2,
   "metadata": {},
   "outputs": [],
   "source": [
    "# text = \"aku|makan\"\n",
    "\n",
    "# look_back = 10\n",
    "# look_front = 5\n",
    "\n",
    "# def create_dataset(text, look_back, look_front):\n",
    "#     X, y = [], []\n",
    "#     text = '|' + text\n",
    "#     data = ['?'] * look_back\n",
    "#     for i in range(1, len(text)):\n",
    "#         current_char = text[i]\n",
    "#         before_char = text[i-1]\n",
    "\n",
    "#         if current_char == '|':\n",
    "#             continue\n",
    "\n",
    "#         data = data[1:look_back] + [current_char]  # X data\n",
    "#         target = 1 if before_char == '|' else 0  # y data\n",
    "\n",
    "#         # look front\n",
    "#         j = 0\n",
    "#         while len(data) < look_back + look_front:\n",
    "#             if i+j+1 < len(text):\n",
    "#                 if text[i+j+1] == '|':\n",
    "#                     j += 1\n",
    "#                     continue\n",
    "#                 data.append(text[i+j+1])\n",
    "#             else:\n",
    "#                 data.append('?')\n",
    "\n",
    "#             j += 1\n",
    "\n",
    "#         X.append(data)\n",
    "#         y.append(target)\n",
    "#     y[-1] = 1  # end text is '|'\n",
    "#     return X, y\n",
    "\n",
    "# dataX, dataY = create_dataset(text, look_back, look_front)\n",
    "# for i in range(len(dataX)):\n",
    "#     print(dataX[i], dataY[i])"
   ]
  },
  {
   "cell_type": "markdown",
   "metadata": {},
   "source": [
    "### PREPROCESSING"
   ]
  },
  {
   "cell_type": "code",
   "execution_count": 3,
   "metadata": {},
   "outputs": [],
   "source": [
    "def replace(text, wordlist):\n",
    "    for new_word, list_ in wordlist.items():\n",
    "        for old_word in list_:\n",
    "            text = text.replace(old_word.lower(), new_word)\n",
    "    \n",
    "    return text\n",
    "\n",
    "def preprocessing(text, wordlist):\n",
    "    text = text.lower()  # to lower-case\n",
    "    text = replace(text, wordlist)\n",
    "\n",
    "    # check if char is in CHAR_INDICES\n",
    "    for char in text:\n",
    "        if char not in CHAR_INDICES:\n",
    "            text = text.replace(char, '')\n",
    "            \n",
    "    return text\n",
    "\n",
    "def create_dataset(text, look_back, look_front):\n",
    "    X, y = [], []\n",
    "    text = '|' + text\n",
    "    data = [CHAR_INDICES['<pad>']] * look_back\n",
    "    for i in range(1, len(text)):\n",
    "        current_char = text[i]\n",
    "        before_char = text[i-1]\n",
    "\n",
    "        if current_char == '|':\n",
    "            continue\n",
    "\n",
    "        data = data[1:look_back] + [CHAR_INDICES[current_char]]  # X data\n",
    "        target = 1 if before_char == '|' else 0  # y data\n",
    "\n",
    "        # look front\n",
    "        j = 0\n",
    "        while len(data) < look_back + look_front:\n",
    "            if i+j+1 < len(text):\n",
    "                if text[i+j+1] == '|':\n",
    "                    j += 1\n",
    "                    continue\n",
    "                data.append(CHAR_INDICES[text[i+j+1]])\n",
    "            else:\n",
    "                data.append(CHAR_INDICES['<pad>'])\n",
    "\n",
    "            j += 1\n",
    "\n",
    "        X.append(data)\n",
    "        y.append(target)\n",
    "    y[-1] = 1  # end text is '|'\n",
    "    return X, y\n",
    "\n",
    "\n",
    "def encode_data(X, y):\n",
    "    sequence_len = len(X[0])\n",
    "    encode_X = np.zeros((len(X), sequence_len, len(CHAR_INDICES)), dtype=np.bool_)\n",
    "    encode_y = np.zeros((len(y), 2), dtype=np.bool_)\n",
    "    for i, (data, target) in enumerate(zip(X, y)):\n",
    "        for t, char in enumerate(data):\n",
    "            encode_X[i, t, char] = 1\n",
    "        encode_y[i, target] = 1\n",
    "        \n",
    "    return encode_X, encode_y\n",
    "\n",
    "\n",
    "def read_text(file):\n",
    "    return open(file, encoding='utf-8', errors=\"ignore\").read()"
   ]
  },
  {
   "cell_type": "markdown",
   "metadata": {},
   "source": [
    "### TRAIN TEST"
   ]
  },
  {
   "cell_type": "code",
   "execution_count": 4,
   "metadata": {},
   "outputs": [],
   "source": [
    "file_train = [\n",
    "    \"../dataset/id_meta_part_1_translate_80000.txt\",\n",
    "    \"../dataset/id_meta_part_1_translate_50000.txt\",\n",
    "]\n",
    "\n",
    "file_test = [\n",
    "    \"../dataset/id_meta_part_1_translate_20000.txt\",\n",
    "]\n",
    "\n",
    "file_validate = [\n",
    "    \"../dataset/id_meta_part_1_translate_30000.txt\",\n",
    "]"
   ]
  },
  {
   "cell_type": "code",
   "execution_count": 5,
   "metadata": {},
   "outputs": [
    {
     "name": "stdout",
     "output_type": "stream",
     "text": [
      "Number of data on train set:  4799194\n",
      "Number of data on validate set:  2621281\n",
      "Number of data on test set:  2806109\n",
      "Number of all data:  10226584\n"
     ]
    }
   ],
   "source": [
    "wordlist = {\n",
    "    '': ['\\n'],\n",
    "}\n",
    "\n",
    "wordlist2 = copy.deepcopy(wordlist)\n",
    "wordlist2[''].append('|')\n",
    "\n",
    "nb_data_train = sum(len(preprocessing(read_text(file), wordlist2)) for file in file_train)\n",
    "nb_data_validate = sum(len(preprocessing(read_text(file), wordlist2)) for file in file_validate)\n",
    "nb_data_test = sum(len(preprocessing(read_text(file), wordlist2)) for file in file_test)\n",
    "\n",
    "print('Number of data on train set: ', nb_data_train)\n",
    "print('Number of data on validate set: ', nb_data_validate)\n",
    "print('Number of data on test set: ', nb_data_test)\n",
    "print('Number of all data: ', sum([nb_data_train, nb_data_validate, nb_data_test]))"
   ]
  },
  {
   "cell_type": "markdown",
   "metadata": {},
   "source": [
    "### DATASET GENERATOR"
   ]
  },
  {
   "cell_type": "code",
   "execution_count": 6,
   "metadata": {},
   "outputs": [],
   "source": [
    "def generator(files, wordlist, batch_size=1024, look_back=20, look_front=5, mode='Training', display_=False):\n",
    "    while True:\n",
    "        copy_files = files.copy()\n",
    "        random.shuffle(copy_files)\n",
    "\n",
    "        for file in copy_files:\n",
    "            if display_ is True:\n",
    "                print(f'\\n{mode} file: ' + file)\n",
    "\n",
    "            text = read_text(file)\n",
    "            text = preprocessing(text, wordlist)\n",
    "            X_data, y_data = create_dataset(text, look_back, look_front)\n",
    "            X_data, y_data = encode_data(X_data, y_data)\n",
    "\n",
    "            samples_per_epoch  = len(X_data)\n",
    "            number_of_batches = int(math.ceil(samples_per_epoch / batch_size))\n",
    "\n",
    "            for counter in range(number_of_batches):\n",
    "                X_batch = np.array(X_data[batch_size*counter:batch_size*(counter+1)])\n",
    "                y_batch = np.array(y_data[batch_size*counter:batch_size*(counter+1)])\n",
    "                yield X_batch, y_batch"
   ]
  },
  {
   "cell_type": "markdown",
   "metadata": {},
   "source": [
    "### MODEL"
   ]
  },
  {
   "cell_type": "code",
   "execution_count": 7,
   "metadata": {},
   "outputs": [
    {
     "name": "stderr",
     "output_type": "stream",
     "text": [
      "2024-06-18 15:16:13.621711: I tensorflow/core/platform/cpu_feature_guard.cc:182] This TensorFlow binary is optimized to use available CPU instructions in performance-critical operations.\n",
      "To enable the following instructions: AVX2 FMA, in other operations, rebuild TensorFlow with the appropriate compiler flags.\n",
      "2024-06-18 15:16:14.275822: W tensorflow/compiler/tf2tensorrt/utils/py_utils.cc:38] TF-TRT Warning: Could not find TensorRT\n",
      "2024-06-18 15:16:15.060140: I tensorflow/compiler/xla/stream_executor/cuda/cuda_gpu_executor.cc:982] could not open file to read NUMA node: /sys/bus/pci/devices/0000:01:00.0/numa_node\n",
      "Your kernel may have been built without NUMA support.\n",
      "2024-06-18 15:16:15.086164: I tensorflow/compiler/xla/stream_executor/cuda/cuda_gpu_executor.cc:982] could not open file to read NUMA node: /sys/bus/pci/devices/0000:01:00.0/numa_node\n",
      "Your kernel may have been built without NUMA support.\n",
      "2024-06-18 15:16:15.086538: I tensorflow/compiler/xla/stream_executor/cuda/cuda_gpu_executor.cc:982] could not open file to read NUMA node: /sys/bus/pci/devices/0000:01:00.0/numa_node\n",
      "Your kernel may have been built without NUMA support.\n",
      "2024-06-18 15:16:15.091617: I tensorflow/compiler/xla/stream_executor/cuda/cuda_gpu_executor.cc:982] could not open file to read NUMA node: /sys/bus/pci/devices/0000:01:00.0/numa_node\n",
      "Your kernel may have been built without NUMA support.\n",
      "2024-06-18 15:16:15.091986: I tensorflow/compiler/xla/stream_executor/cuda/cuda_gpu_executor.cc:982] could not open file to read NUMA node: /sys/bus/pci/devices/0000:01:00.0/numa_node\n",
      "Your kernel may have been built without NUMA support.\n",
      "2024-06-18 15:16:15.092288: I tensorflow/compiler/xla/stream_executor/cuda/cuda_gpu_executor.cc:982] could not open file to read NUMA node: /sys/bus/pci/devices/0000:01:00.0/numa_node\n",
      "Your kernel may have been built without NUMA support.\n",
      "2024-06-18 15:16:15.203799: I tensorflow/compiler/xla/stream_executor/cuda/cuda_gpu_executor.cc:982] could not open file to read NUMA node: /sys/bus/pci/devices/0000:01:00.0/numa_node\n",
      "Your kernel may have been built without NUMA support.\n",
      "2024-06-18 15:16:15.204313: I tensorflow/compiler/xla/stream_executor/cuda/cuda_gpu_executor.cc:982] could not open file to read NUMA node: /sys/bus/pci/devices/0000:01:00.0/numa_node\n",
      "Your kernel may have been built without NUMA support.\n",
      "2024-06-18 15:16:15.204333: I tensorflow/core/common_runtime/gpu/gpu_device.cc:1722] Could not identify NUMA node of platform GPU id 0, defaulting to 0.  Your kernel may not have been built with NUMA support.\n",
      "2024-06-18 15:16:15.204683: I tensorflow/compiler/xla/stream_executor/cuda/cuda_gpu_executor.cc:982] could not open file to read NUMA node: /sys/bus/pci/devices/0000:01:00.0/numa_node\n",
      "Your kernel may have been built without NUMA support.\n",
      "2024-06-18 15:16:15.204781: I tensorflow/core/common_runtime/gpu/gpu_device.cc:1635] Created device /job:localhost/replica:0/task:0/device:GPU:0 with 9702 MB memory:  -> device: 0, name: NVIDIA GeForce GTX 1080 Ti, pci bus id: 0000:01:00.0, compute capability: 6.1\n",
      "2024-06-18 15:16:15.907424: I tensorflow/core/common_runtime/executor.cc:1197] [/device:CPU:0] (DEBUG INFO) Executor start aborting (this does not indicate an error and you can ignore this message): INVALID_ARGUMENT: You must feed a value for placeholder tensor 'gradients/split_2_grad/concat/split_2/split_dim' with dtype int32\n",
      "\t [[{{node gradients/split_2_grad/concat/split_2/split_dim}}]]\n",
      "2024-06-18 15:16:15.908771: I tensorflow/core/common_runtime/executor.cc:1197] [/device:CPU:0] (DEBUG INFO) Executor start aborting (this does not indicate an error and you can ignore this message): INVALID_ARGUMENT: You must feed a value for placeholder tensor 'gradients/split_grad/concat/split/split_dim' with dtype int32\n",
      "\t [[{{node gradients/split_grad/concat/split/split_dim}}]]\n",
      "2024-06-18 15:16:15.909619: I tensorflow/core/common_runtime/executor.cc:1197] [/device:CPU:0] (DEBUG INFO) Executor start aborting (this does not indicate an error and you can ignore this message): INVALID_ARGUMENT: You must feed a value for placeholder tensor 'gradients/split_1_grad/concat/split_1/split_dim' with dtype int32\n",
      "\t [[{{node gradients/split_1_grad/concat/split_1/split_dim}}]]\n",
      "2024-06-18 15:16:16.019795: I tensorflow/core/common_runtime/executor.cc:1197] [/device:CPU:0] (DEBUG INFO) Executor start aborting (this does not indicate an error and you can ignore this message): INVALID_ARGUMENT: You must feed a value for placeholder tensor 'gradients/ReverseV2_grad/ReverseV2/ReverseV2/axis' with dtype int32 and shape [1]\n",
      "\t [[{{node gradients/ReverseV2_grad/ReverseV2/ReverseV2/axis}}]]\n",
      "2024-06-18 15:16:16.053277: I tensorflow/core/common_runtime/executor.cc:1197] [/device:CPU:0] (DEBUG INFO) Executor start aborting (this does not indicate an error and you can ignore this message): INVALID_ARGUMENT: You must feed a value for placeholder tensor 'gradients/split_2_grad/concat/split_2/split_dim' with dtype int32\n",
      "\t [[{{node gradients/split_2_grad/concat/split_2/split_dim}}]]\n",
      "2024-06-18 15:16:16.054216: I tensorflow/core/common_runtime/executor.cc:1197] [/device:CPU:0] (DEBUG INFO) Executor start aborting (this does not indicate an error and you can ignore this message): INVALID_ARGUMENT: You must feed a value for placeholder tensor 'gradients/split_grad/concat/split/split_dim' with dtype int32\n",
      "\t [[{{node gradients/split_grad/concat/split/split_dim}}]]\n",
      "2024-06-18 15:16:16.055139: I tensorflow/core/common_runtime/executor.cc:1197] [/device:CPU:0] (DEBUG INFO) Executor start aborting (this does not indicate an error and you can ignore this message): INVALID_ARGUMENT: You must feed a value for placeholder tensor 'gradients/split_1_grad/concat/split_1/split_dim' with dtype int32\n",
      "\t [[{{node gradients/split_1_grad/concat/split_1/split_dim}}]]\n"
     ]
    },
    {
     "name": "stdout",
     "output_type": "stream",
     "text": [
      "Total params:  21098\n"
     ]
    },
    {
     "data": {
      "image/png": "[encoded data removed]",
      "text/plain": [
       "<IPython.core.display.Image object>"
      ]
     },
     "metadata": {},
     "output_type": "display_data"
    }
   ],
   "source": [
    "import tensorflow as tf\n",
    "from tensorflow.keras.models import Sequential\n",
    "from tensorflow.keras.layers import LSTM, Dense, Activation, Bidirectional, Dropout\n",
    "from tensorflow.keras.optimizers import RMSprop\n",
    "from tensorflow.keras.utils import plot_model\n",
    "from IPython.display import Image\n",
    "import copy\n",
    "tf.config.list_physical_devices('GPU')\n",
    "\n",
    "tf.random.set_seed(42)\n",
    "\n",
    "LOOK_BACK = 10\n",
    "LOOK_FRONT = 0\n",
    "batch_size = 1000\n",
    "steps_per_epoch = int(nb_data_train / batch_size)\n",
    "validation_steps = int(nb_data_train / (batch_size * 10))\n",
    "\n",
    "from tensorflow.keras.models import Sequential\n",
    "from tensorflow.keras.layers import GRU, Dense\n",
    "\n",
    "def define_model(input_shape):\n",
    "    model = Sequential()\n",
    "    model.add(Bidirectional(LSTM(input_shape[1]//2, input_shape=input_shape,return_sequences=False),\n",
    "                      merge_mode='sum',\n",
    "                      weights=None,\n",
    "                      input_shape=input_shape))\n",
    "    model.add(Dense(input_shape[1]//4, activation='linear'))\n",
    "    model.add(Dense(2, activation='softmax'))\n",
    "    model.compile(loss='categorical_crossentropy', optimizer='rmsprop', metrics=['accuracy'])  # compile\n",
    "    \n",
    "    print('Total params: ', model.count_params())\n",
    "    return model\n",
    "\n",
    "input_shape = (LOOK_BACK + LOOK_FRONT, len(CHAR_INDICES))\n",
    "model = define_model(input_shape)  # define model\n",
    "\n",
    "# plot model\n",
    "image_name = '../images/model.png'\n",
    "plot_model(model, image_name, show_shapes=True, show_layer_names=False)\n",
    "display(Image(filename=image_name))"
   ]
  },
  {
   "cell_type": "code",
   "execution_count": 8,
   "metadata": {},
   "outputs": [
    {
     "name": "stdout",
     "output_type": "stream",
     "text": [
      "steps per epoch 4799\n",
      "validation steps 479\n"
     ]
    }
   ],
   "source": [
    "# Generators\n",
    "training_generator = generator(file_train, \n",
    "                               wordlist, \n",
    "                               batch_size, \n",
    "                               look_back=LOOK_BACK,\n",
    "                               look_front=LOOK_FRONT, \n",
    "                               mode='Training')\n",
    "\n",
    "validation_generator = generator(file_validate, \n",
    "                                 wordlist, \n",
    "                                 batch_size, \n",
    "                                 look_back=LOOK_BACK, \n",
    "                                 look_front=LOOK_FRONT, \n",
    "                                 mode='Validation')\n",
    "\n",
    "print('steps per epoch', steps_per_epoch)\n",
    "print('validation steps', validation_steps)"
   ]
  },
  {
   "cell_type": "code",
   "execution_count": 9,
   "metadata": {},
   "outputs": [
    {
     "data": {
      "image/png": "[encoded data removed]",
      "text/plain": [
       "<Figure size 640x480 with 1 Axes>"
      ]
     },
     "metadata": {},
     "output_type": "display_data"
    }
   ],
   "source": [
    "# from keras.callbacks import ModelCheckpoint, LearningRateScheduler\n",
    "from tensorflow.keras.callbacks import ModelCheckpoint, LearningRateScheduler\n",
    "from matplotlib import pyplot as plt\n",
    "\n",
    "# checkpoint\n",
    "filepath=\"../models/model-gru-{epoch:03d}-{accuracy:.4f}.keras\"\n",
    "checkpoint = ModelCheckpoint(filepath, monitor='accuracy', verbose=1, save_best_only=True, mode='max')\n",
    "\n",
    "def step_decay(epoch):\n",
    "    initial_lrate = 0.001\n",
    "    min_lrat = 0.0001\n",
    "    drop_per_epoch = (initial_lrate - min_lrat) / NB_EPOCH\n",
    "    lrate = initial_lrate - (drop_per_epoch * epoch)\n",
    "    return lrate\n",
    "\n",
    "NB_EPOCH = 5\n",
    "lrate = LearningRateScheduler(step_decay)\n",
    "\n",
    "plt.plot([step_decay(i) for i in range(NB_EPOCH)]);\n",
    "plt.savefig('../images/gru-step-decay.png')"
   ]
  },
  {
   "cell_type": "code",
   "execution_count": 10,
   "metadata": {},
   "outputs": [
    {
     "name": "stdout",
     "output_type": "stream",
     "text": [
      "Epoch 1/5\n"
     ]
    },
    {
     "name": "stderr",
     "output_type": "stream",
     "text": [
      "2024-06-18 15:16:22.683221: I tensorflow/core/common_runtime/executor.cc:1197] [/device:CPU:0] (DEBUG INFO) Executor start aborting (this does not indicate an error and you can ignore this message): INVALID_ARGUMENT: You must feed a value for placeholder tensor 'Placeholder/_0' with dtype int32\n",
      "\t [[{{node Placeholder/_0}}]]\n",
      "2024-06-18 15:16:22.847082: I tensorflow/core/common_runtime/executor.cc:1197] [/device:CPU:0] (DEBUG INFO) Executor start aborting (this does not indicate an error and you can ignore this message): INVALID_ARGUMENT: You must feed a value for placeholder tensor 'gradients/split_2_grad/concat/split_2/split_dim' with dtype int32\n",
      "\t [[{{node gradients/split_2_grad/concat/split_2/split_dim}}]]\n",
      "2024-06-18 15:16:22.848173: I tensorflow/core/common_runtime/executor.cc:1197] [/device:CPU:0] (DEBUG INFO) Executor start aborting (this does not indicate an error and you can ignore this message): INVALID_ARGUMENT: You must feed a value for placeholder tensor 'gradients/split_grad/concat/split/split_dim' with dtype int32\n",
      "\t [[{{node gradients/split_grad/concat/split/split_dim}}]]\n",
      "2024-06-18 15:16:22.849080: I tensorflow/core/common_runtime/executor.cc:1197] [/device:CPU:0] (DEBUG INFO) Executor start aborting (this does not indicate an error and you can ignore this message): INVALID_ARGUMENT: You must feed a value for placeholder tensor 'gradients/split_1_grad/concat/split_1/split_dim' with dtype int32\n",
      "\t [[{{node gradients/split_1_grad/concat/split_1/split_dim}}]]\n",
      "2024-06-18 15:16:22.962492: I tensorflow/core/common_runtime/executor.cc:1197] [/device:CPU:0] (DEBUG INFO) Executor start aborting (this does not indicate an error and you can ignore this message): INVALID_ARGUMENT: You must feed a value for placeholder tensor 'gradients/ReverseV2_grad/ReverseV2/ReverseV2/axis' with dtype int32 and shape [1]\n",
      "\t [[{{node gradients/ReverseV2_grad/ReverseV2/ReverseV2/axis}}]]\n",
      "2024-06-18 15:16:23.007831: I tensorflow/core/common_runtime/executor.cc:1197] [/device:CPU:0] (DEBUG INFO) Executor start aborting (this does not indicate an error and you can ignore this message): INVALID_ARGUMENT: You must feed a value for placeholder tensor 'gradients/split_2_grad/concat/split_2/split_dim' with dtype int32\n",
      "\t [[{{node gradients/split_2_grad/concat/split_2/split_dim}}]]\n",
      "2024-06-18 15:16:23.009116: I tensorflow/core/common_runtime/executor.cc:1197] [/device:CPU:0] (DEBUG INFO) Executor start aborting (this does not indicate an error and you can ignore this message): INVALID_ARGUMENT: You must feed a value for placeholder tensor 'gradients/split_grad/concat/split/split_dim' with dtype int32\n",
      "\t [[{{node gradients/split_grad/concat/split/split_dim}}]]\n",
      "2024-06-18 15:16:23.010227: I tensorflow/core/common_runtime/executor.cc:1197] [/device:CPU:0] (DEBUG INFO) Executor start aborting (this does not indicate an error and you can ignore this message): INVALID_ARGUMENT: You must feed a value for placeholder tensor 'gradients/split_1_grad/concat/split_1/split_dim' with dtype int32\n",
      "\t [[{{node gradients/split_1_grad/concat/split_1/split_dim}}]]\n",
      "2024-06-18 15:16:23.383514: I tensorflow/core/common_runtime/executor.cc:1197] [/device:CPU:0] (DEBUG INFO) Executor start aborting (this does not indicate an error and you can ignore this message): INVALID_ARGUMENT: You must feed a value for placeholder tensor 'gradients/ReverseV2_grad/ReverseV2/ReverseV2/axis' with dtype int32 and shape [1]\n",
      "\t [[{{node gradients/ReverseV2_grad/ReverseV2/ReverseV2/axis}}]]\n",
      "2024-06-18 15:16:23.789828: I tensorflow/core/common_runtime/executor.cc:1197] [/device:CPU:0] (DEBUG INFO) Executor start aborting (this does not indicate an error and you can ignore this message): INVALID_ARGUMENT: You must feed a value for placeholder tensor 'gradients/split_2_grad/concat/split_2/split_dim' with dtype int32\n",
      "\t [[{{node gradients/split_2_grad/concat/split_2/split_dim}}]]\n",
      "2024-06-18 15:16:23.791968: I tensorflow/core/common_runtime/executor.cc:1197] [/device:CPU:0] (DEBUG INFO) Executor start aborting (this does not indicate an error and you can ignore this message): INVALID_ARGUMENT: You must feed a value for placeholder tensor 'gradients/split_grad/concat/split/split_dim' with dtype int32\n",
      "\t [[{{node gradients/split_grad/concat/split/split_dim}}]]\n",
      "2024-06-18 15:16:23.793120: I tensorflow/core/common_runtime/executor.cc:1197] [/device:CPU:0] (DEBUG INFO) Executor start aborting (this does not indicate an error and you can ignore this message): INVALID_ARGUMENT: You must feed a value for placeholder tensor 'gradients/split_1_grad/concat/split_1/split_dim' with dtype int32\n",
      "\t [[{{node gradients/split_1_grad/concat/split_1/split_dim}}]]\n",
      "2024-06-18 15:16:23.940199: I tensorflow/core/common_runtime/executor.cc:1197] [/device:CPU:0] (DEBUG INFO) Executor start aborting (this does not indicate an error and you can ignore this message): INVALID_ARGUMENT: You must feed a value for placeholder tensor 'gradients/ReverseV2_grad/ReverseV2/ReverseV2/axis' with dtype int32 and shape [1]\n",
      "\t [[{{node gradients/ReverseV2_grad/ReverseV2/ReverseV2/axis}}]]\n",
      "2024-06-18 15:16:23.990655: I tensorflow/core/common_runtime/executor.cc:1197] [/device:CPU:0] (DEBUG INFO) Executor start aborting (this does not indicate an error and you can ignore this message): INVALID_ARGUMENT: You must feed a value for placeholder tensor 'gradients/split_2_grad/concat/split_2/split_dim' with dtype int32\n",
      "\t [[{{node gradients/split_2_grad/concat/split_2/split_dim}}]]\n",
      "2024-06-18 15:16:23.993084: I tensorflow/core/common_runtime/executor.cc:1197] [/device:CPU:0] (DEBUG INFO) Executor start aborting (this does not indicate an error and you can ignore this message): INVALID_ARGUMENT: You must feed a value for placeholder tensor 'gradients/split_grad/concat/split/split_dim' with dtype int32\n",
      "\t [[{{node gradients/split_grad/concat/split/split_dim}}]]\n",
      "2024-06-18 15:16:23.994395: I tensorflow/core/common_runtime/executor.cc:1197] [/device:CPU:0] (DEBUG INFO) Executor start aborting (this does not indicate an error and you can ignore this message): INVALID_ARGUMENT: You must feed a value for placeholder tensor 'gradients/split_1_grad/concat/split_1/split_dim' with dtype int32\n",
      "\t [[{{node gradients/split_1_grad/concat/split_1/split_dim}}]]\n",
      "2024-06-18 15:16:24.487802: I tensorflow/core/common_runtime/executor.cc:1197] [/device:CPU:0] (DEBUG INFO) Executor start aborting (this does not indicate an error and you can ignore this message): INVALID_ARGUMENT: You must feed a value for placeholder tensor 'gradients/ReverseV2_grad/ReverseV2/ReverseV2/axis' with dtype int32 and shape [1]\n",
      "\t [[{{node gradients/ReverseV2_grad/ReverseV2/ReverseV2/axis}}]]\n",
      "2024-06-18 15:16:24.974943: I tensorflow/compiler/xla/stream_executor/cuda/cuda_dnn.cc:424] Loaded cuDNN version 8600\n",
      "2024-06-18 15:16:25.008910: I tensorflow/compiler/xla/service/service.cc:169] XLA service 0x7f6b00015630 initialized for platform CUDA (this does not guarantee that XLA will be used). Devices:\n",
      "2024-06-18 15:16:25.008967: I tensorflow/compiler/xla/service/service.cc:177]   StreamExecutor device (0): NVIDIA GeForce GTX 1080 Ti, Compute Capability 6.1\n",
      "2024-06-18 15:16:25.014360: I tensorflow/compiler/mlir/tensorflow/utils/dump_mlir_util.cc:269] disabling MLIR crash reproducer, set env var `MLIR_CRASH_REPRODUCER_DIRECTORY` to enable.\n",
      "2024-06-18 15:16:25.085754: E tensorflow/compiler/xla/stream_executor/gpu/asm_compiler.cc:114] *** WARNING *** You are using ptxas 10.1.243, which is older than 11.1. ptxas before 11.1 is known to miscompile XLA code, leading to incorrect results or invalid-address errors.\n",
      "\n",
      "2024-06-18 15:16:25.135172: I ./tensorflow/compiler/jit/device_compiler.h:180] Compiled cluster using XLA!  This line is logged at most once for the lifetime of the process.\n",
      "2024-06-18 15:16:25.194109: E tensorflow/compiler/xla/stream_executor/gpu/asm_compiler.cc:114] *** WARNING *** You are using ptxas 10.1.243, which is older than 11.1. ptxas before 11.1 is known to miscompile XLA code, leading to incorrect results or invalid-address errors.\n",
      "\n",
      "2024-06-18 15:16:25.301498: E tensorflow/compiler/xla/stream_executor/gpu/asm_compiler.cc:114] *** WARNING *** You are using ptxas 10.1.243, which is older than 11.1. ptxas before 11.1 is known to miscompile XLA code, leading to incorrect results or invalid-address errors.\n",
      "\n",
      "2024-06-18 15:16:25.414932: E tensorflow/compiler/xla/stream_executor/gpu/asm_compiler.cc:114] *** WARNING *** You are using ptxas 10.1.243, which is older than 11.1. ptxas before 11.1 is known to miscompile XLA code, leading to incorrect results or invalid-address errors.\n",
      "\n"
     ]
    },
    {
     "name": "stdout",
     "output_type": "stream",
     "text": [
      "   9/4799 [..............................] - ETA: 1:08 - loss: 0.5711 - accuracy: 0.7671 "
     ]
    },
    {
     "name": "stderr",
     "output_type": "stream",
     "text": [
      "2024-06-18 15:16:25.622794: E tensorflow/compiler/xla/stream_executor/gpu/asm_compiler.cc:114] *** WARNING *** You are using ptxas 10.1.243, which is older than 11.1. ptxas before 11.1 is known to miscompile XLA code, leading to incorrect results or invalid-address errors.\n",
      "\n",
      "2024-06-18 15:16:25.622978: E tensorflow/compiler/xla/stream_executor/gpu/asm_compiler.cc:114] *** WARNING *** You are using ptxas 10.1.243, which is older than 11.1. ptxas before 11.1 is known to miscompile XLA code, leading to incorrect results or invalid-address errors.\n",
      "\n",
      "2024-06-18 15:16:25.627438: E tensorflow/compiler/xla/stream_executor/gpu/asm_compiler.cc:114] *** WARNING *** You are using ptxas 10.1.243, which is older than 11.1. ptxas before 11.1 is known to miscompile XLA code, leading to incorrect results or invalid-address errors.\n",
      "\n"
     ]
    },
    {
     "name": "stdout",
     "output_type": "stream",
     "text": [
      "4797/4799 [============================>.] - ETA: 0s - loss: 0.1627 - accuracy: 0.9322"
     ]
    },
    {
     "name": "stderr",
     "output_type": "stream",
     "text": [
      "2024-06-18 15:17:45.881167: I tensorflow/core/common_runtime/executor.cc:1197] [/device:CPU:0] (DEBUG INFO) Executor start aborting (this does not indicate an error and you can ignore this message): INVALID_ARGUMENT: You must feed a value for placeholder tensor 'Placeholder/_0' with dtype int32\n",
      "\t [[{{node Placeholder/_0}}]]\n",
      "2024-06-18 15:17:46.044631: I tensorflow/core/common_runtime/executor.cc:1197] [/device:CPU:0] (DEBUG INFO) Executor start aborting (this does not indicate an error and you can ignore this message): INVALID_ARGUMENT: You must feed a value for placeholder tensor 'gradients/split_2_grad/concat/split_2/split_dim' with dtype int32\n",
      "\t [[{{node gradients/split_2_grad/concat/split_2/split_dim}}]]\n",
      "2024-06-18 15:17:46.045606: I tensorflow/core/common_runtime/executor.cc:1197] [/device:CPU:0] (DEBUG INFO) Executor start aborting (this does not indicate an error and you can ignore this message): INVALID_ARGUMENT: You must feed a value for placeholder tensor 'gradients/split_grad/concat/split/split_dim' with dtype int32\n",
      "\t [[{{node gradients/split_grad/concat/split/split_dim}}]]\n",
      "2024-06-18 15:17:46.046420: I tensorflow/core/common_runtime/executor.cc:1197] [/device:CPU:0] (DEBUG INFO) Executor start aborting (this does not indicate an error and you can ignore this message): INVALID_ARGUMENT: You must feed a value for placeholder tensor 'gradients/split_1_grad/concat/split_1/split_dim' with dtype int32\n",
      "\t [[{{node gradients/split_1_grad/concat/split_1/split_dim}}]]\n",
      "2024-06-18 15:17:46.154324: I tensorflow/core/common_runtime/executor.cc:1197] [/device:CPU:0] (DEBUG INFO) Executor start aborting (this does not indicate an error and you can ignore this message): INVALID_ARGUMENT: You must feed a value for placeholder tensor 'gradients/ReverseV2_grad/ReverseV2/ReverseV2/axis' with dtype int32 and shape [1]\n",
      "\t [[{{node gradients/ReverseV2_grad/ReverseV2/ReverseV2/axis}}]]\n",
      "2024-06-18 15:17:46.189916: I tensorflow/core/common_runtime/executor.cc:1197] [/device:CPU:0] (DEBUG INFO) Executor start aborting (this does not indicate an error and you can ignore this message): INVALID_ARGUMENT: You must feed a value for placeholder tensor 'gradients/split_2_grad/concat/split_2/split_dim' with dtype int32\n",
      "\t [[{{node gradients/split_2_grad/concat/split_2/split_dim}}]]\n",
      "2024-06-18 15:17:46.190882: I tensorflow/core/common_runtime/executor.cc:1197] [/device:CPU:0] (DEBUG INFO) Executor start aborting (this does not indicate an error and you can ignore this message): INVALID_ARGUMENT: You must feed a value for placeholder tensor 'gradients/split_grad/concat/split/split_dim' with dtype int32\n",
      "\t [[{{node gradients/split_grad/concat/split/split_dim}}]]\n",
      "2024-06-18 15:17:46.191736: I tensorflow/core/common_runtime/executor.cc:1197] [/device:CPU:0] (DEBUG INFO) Executor start aborting (this does not indicate an error and you can ignore this message): INVALID_ARGUMENT: You must feed a value for placeholder tensor 'gradients/split_1_grad/concat/split_1/split_dim' with dtype int32\n",
      "\t [[{{node gradients/split_1_grad/concat/split_1/split_dim}}]]\n"
     ]
    },
    {
     "name": "stdout",
     "output_type": "stream",
     "text": [
      "\n",
      "Epoch 1: accuracy improved from -inf to 0.93216, saving model to ../models/model-gru-001-0.9322.keras\n",
      "4799/4799 [==============================] - 88s 18ms/step - loss: 0.1627 - accuracy: 0.9322 - val_loss: 0.1184 - val_accuracy: 0.9542 - lr: 0.0010\n",
      "Epoch 2/5\n",
      "4797/4799 [============================>.] - ETA: 0s - loss: 0.0911 - accuracy: 0.9657\n",
      "Epoch 2: accuracy improved from 0.93216 to 0.96573, saving model to ../models/model-gru-002-0.9657.keras\n",
      "4799/4799 [==============================] - 82s 17ms/step - loss: 0.0911 - accuracy: 0.9657 - val_loss: 0.0908 - val_accuracy: 0.9654 - lr: 8.2000e-04\n",
      "Epoch 3/5\n",
      "4796/4799 [============================>.] - ETA: 0s - loss: 0.0760 - accuracy: 0.9723\n",
      "Epoch 3: accuracy improved from 0.96573 to 0.97234, saving model to ../models/model-gru-003-0.9723.keras\n",
      "4799/4799 [==============================] - 82s 17ms/step - loss: 0.0760 - accuracy: 0.9723 - val_loss: 0.0831 - val_accuracy: 0.9692 - lr: 6.4000e-04\n",
      "Epoch 4/5\n",
      "4799/4799 [==============================] - ETA: 0s - loss: 0.0692 - accuracy: 0.9751\n",
      "Epoch 4: accuracy improved from 0.97234 to 0.97513, saving model to ../models/model-gru-004-0.9751.keras\n",
      "4799/4799 [==============================] - 82s 17ms/step - loss: 0.0692 - accuracy: 0.9751 - val_loss: 0.0733 - val_accuracy: 0.9736 - lr: 4.6000e-04\n",
      "Epoch 5/5\n",
      "4799/4799 [==============================] - ETA: 0s - loss: 0.0654 - accuracy: 0.9766\n",
      "Epoch 5: accuracy improved from 0.97513 to 0.97665, saving model to ../models/model-gru-005-0.9766.keras\n",
      "4799/4799 [==============================] - 81s 17ms/step - loss: 0.0654 - accuracy: 0.9766 - val_loss: 0.0669 - val_accuracy: 0.9758 - lr: 2.8000e-04\n"
     ]
    }
   ],
   "source": [
    "callbacks_list = [checkpoint, lrate]\n",
    "\n",
    "history = model.fit(training_generator,\n",
    "                    validation_data=validation_generator,\n",
    "                    steps_per_epoch=steps_per_epoch,\n",
    "                    validation_steps=validation_steps,\n",
    "                    epochs=NB_EPOCH,\n",
    "                    verbose=1,\n",
    "                    callbacks=callbacks_list)\n"
   ]
  },
  {
   "cell_type": "code",
   "execution_count": 11,
   "metadata": {},
   "outputs": [],
   "source": [
    "# save history as csv\n",
    "import pandas as pd\n",
    "df = pd.DataFrame(history.history)\n",
    "df.to_csv('../models/history-bilstm-nlf.csv', index=False)"
   ]
  }
 ],
 "metadata": {
  "kernelspec": {
   "display_name": "tf-gpu1",
   "language": "python",
   "name": "python3"
  },
  "language_info": {
   "codemirror_mode": {
    "name": "ipython",
    "version": 3
   },
   "file_extension": ".py",
   "mimetype": "text/x-python",
   "name": "python",
   "nbconvert_exporter": "python",
   "pygments_lexer": "ipython3",
   "version": "3.9.undefined"
  }
 },
 "nbformat": 4,
 "nbformat_minor": 2
}

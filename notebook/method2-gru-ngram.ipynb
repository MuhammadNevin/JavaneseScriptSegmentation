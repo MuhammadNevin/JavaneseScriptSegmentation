{
 "cells": [
  {
   "cell_type": "code",
   "execution_count": 12,
   "metadata": {},
   "outputs": [],
   "source": [
    "import json\n",
    "import numpy as np\n",
    "import random, math\n",
    "import copy\n",
    "\n",
    "def read_json(fname, key_int=False):\n",
    "    with open(fname, 'r') as file:\n",
    "        data = file.read()\n",
    "        json_data = json.loads(data)\n",
    "        \n",
    "        if not key_int:\n",
    "            return json_data\n",
    "        \n",
    "        json_data = {int(key): value for key, value in json_data.items()}\n",
    "        return json_data\n",
    "    \n",
    "CHAR_INDICES = read_json('../models/CHAR_INDICES.json', key_int=False)"
   ]
  },
  {
   "cell_type": "code",
   "execution_count": 13,
   "metadata": {},
   "outputs": [],
   "source": [
    "# text = \"aku|makan\"\n",
    "\n",
    "# look_back = 10\n",
    "# look_front = 5\n",
    "\n",
    "# def create_dataset(text, look_back, look_front):\n",
    "#     X, y = [], []\n",
    "#     text = '|' + text\n",
    "#     data = ['?'] * look_back\n",
    "#     for i in range(1, len(text)):\n",
    "#         current_char = text[i]\n",
    "#         before_char = text[i-1]\n",
    "\n",
    "#         if current_char == '|':\n",
    "#             continue\n",
    "\n",
    "#         data = data[1:look_back] + [current_char]  # X data\n",
    "#         target = 1 if before_char == '|' else 0  # y data\n",
    "\n",
    "#         # look front\n",
    "#         j = 0\n",
    "#         while len(data) < look_back + look_front:\n",
    "#             if i+j+1 < len(text):\n",
    "#                 if text[i+j+1] == '|':\n",
    "#                     j += 1\n",
    "#                     continue\n",
    "#                 data.append(text[i+j+1])\n",
    "#             else:\n",
    "#                 data.append('?')\n",
    "\n",
    "#             j += 1\n",
    "\n",
    "#         X.append(data)\n",
    "#         y.append(target)\n",
    "#     y[-1] = 1  # end text is '|'\n",
    "#     return X, y\n",
    "\n",
    "# dataX, dataY = create_dataset(text, look_back, look_front)\n",
    "# for i in range(len(dataX)):\n",
    "#     print(dataX[i], dataY[i])"
   ]
  },
  {
   "cell_type": "markdown",
   "metadata": {},
   "source": [
    "### TRAIN TEST & PREPROCESSING"
   ]
  },
  {
   "cell_type": "code",
   "execution_count": 14,
   "metadata": {},
   "outputs": [],
   "source": [
    "file_train = [\n",
    "    \"../dataset/id_meta_part_1_translate_80000.txt\",\n",
    "    \"../dataset/id_meta_part_1_translate_50000.txt\",\n",
    "]\n",
    "\n",
    "file_test = [\n",
    "    \"../dataset/id_meta_part_1_translate_20000.txt\",\n",
    "]\n",
    "\n",
    "file_validate = [\n",
    "    \"../dataset/id_meta_part_1_translate_30000.txt\",\n",
    "]"
   ]
  },
  {
   "cell_type": "code",
   "execution_count": 15,
   "metadata": {},
   "outputs": [],
   "source": [
    "# CREATE DICTIONARY\n",
    "\n",
    "dict_path = \"../models/dictionary.txt\"\n",
    "def create_dict(file_list):\n",
    "    words = []\n",
    "    for file in file_list:\n",
    "        with open(file, 'r') as f:\n",
    "            delimeter = \"|\"\n",
    "            for line in f:\n",
    "                line = line.strip()\n",
    "                line = line.split(delimeter)\n",
    "                for word in line:\n",
    "                    if word not in words:\n",
    "                        words.append(word)\n",
    "\n",
    "\n",
    "    with open(dict_path, 'w') as f:\n",
    "        for word in words:\n",
    "            f.write(word + '\\n')\n",
    "\n",
    "    return words\n",
    "\n",
    "def read_dict():\n",
    "    with open(dict_path, 'r') as f:\n",
    "        words = f.read().splitlines()\n",
    "    return words\n",
    "\n",
    "DICT = read_dict()"
   ]
  },
  {
   "cell_type": "code",
   "execution_count": 16,
   "metadata": {},
   "outputs": [],
   "source": [
    "def replace(text, wordlist):\n",
    "    for new_word, list_ in wordlist.items():\n",
    "        for old_word in list_:\n",
    "            text = text.replace(old_word.lower(), new_word)\n",
    "    \n",
    "    return text\n",
    "\n",
    "def preprocessing(text, wordlist):\n",
    "    text = text.lower()  # to lower-case\n",
    "    text = replace(text, wordlist)\n",
    "\n",
    "    # check if char is in CHAR_INDICES\n",
    "    for char in text:\n",
    "        if char not in CHAR_INDICES:\n",
    "            text = text.replace(char, '')\n",
    "            \n",
    "    return text\n",
    "\n",
    "def generate_dict_vector(text):\n",
    "    vect = [0.0] * len(text)\n",
    "    for i in range(len(text)):\n",
    "        current_text = text[:i+1]\n",
    "        if current_text in DICT:\n",
    "            vect[i] = 1.0\n",
    "        else:\n",
    "            vect[i] = 0.0\n",
    "\n",
    "    return vect\n",
    "\n",
    "def create_dataset(text, look_back, look_front):\n",
    "    X, y = [], []\n",
    "    X_ngram = []\n",
    "    text = '|' + text\n",
    "    data = [CHAR_INDICES['<pad>']] * look_back\n",
    "    for i in range(1, len(text)):\n",
    "        current_char = text[i]\n",
    "        before_char = text[i-1]\n",
    "\n",
    "        if current_char == '|':\n",
    "            continue\n",
    "\n",
    "        data = data[1:look_back] + [CHAR_INDICES[current_char]]  # X data\n",
    "        target = 1 if before_char == '|' else 0  # y data\n",
    "\n",
    "        # look front\n",
    "        front_text = current_char\n",
    "        j = 0\n",
    "        while len(data) < look_back + look_front:\n",
    "            if i+j+1 < len(text):\n",
    "                if text[i+j+1] == '|':\n",
    "                    j += 1\n",
    "                    continue\n",
    "                data.append(CHAR_INDICES[text[i+j+1]])\n",
    "                front_text += text[i+j+1]\n",
    "            else:\n",
    "                data.append(CHAR_INDICES['<pad>'])\n",
    "                front_text += '?'\n",
    "\n",
    "            j += 1\n",
    "        \n",
    "        ngram_vector = generate_dict_vector(front_text)\n",
    "        X_ngram.append(ngram_vector)\n",
    "        X.append(data)\n",
    "        y.append(target)\n",
    "        \n",
    "    y[-1] = 1  # end text is '|'\n",
    "    return X, X_ngram, y\n",
    "\n",
    "\n",
    "def encode_data(X, y):\n",
    "    sequence_len = len(X[0])\n",
    "    encode_X = np.zeros((len(X), sequence_len, len(CHAR_INDICES)), dtype=np.float32)\n",
    "    encode_y = np.zeros((len(y), 2), dtype=np.float32)\n",
    "    for i, (data, target) in enumerate(zip(X, y)):\n",
    "        for t, char in enumerate(data):\n",
    "            encode_X[i, t, char] = 1\n",
    "        encode_y[i, target] = 1\n",
    "        \n",
    "    return encode_X, encode_y\n",
    "\n",
    "\n",
    "def read_text(file):\n",
    "    return open(file, encoding='utf-8', errors=\"ignore\").read()"
   ]
  },
  {
   "cell_type": "code",
   "execution_count": 17,
   "metadata": {},
   "outputs": [
    {
     "name": "stdout",
     "output_type": "stream",
     "text": [
      "Number of data on train set:  4799194\n",
      "Number of data on validate set:  2621281\n",
      "Number of data on test set:  2806109\n",
      "Number of all data:  10226584\n"
     ]
    }
   ],
   "source": [
    "wordlist = {\n",
    "    '': ['\\n'],\n",
    "}\n",
    "\n",
    "wordlist2 = copy.deepcopy(wordlist)\n",
    "wordlist2[''].append('|')\n",
    "\n",
    "nb_data_train = sum(len(preprocessing(read_text(file), wordlist2)) for file in file_train)\n",
    "nb_data_validate = sum(len(preprocessing(read_text(file), wordlist2)) for file in file_validate)\n",
    "nb_data_test = sum(len(preprocessing(read_text(file), wordlist2)) for file in file_test)\n",
    "\n",
    "print('Number of data on train set: ', nb_data_train)\n",
    "print('Number of data on validate set: ', nb_data_validate)\n",
    "print('Number of data on test set: ', nb_data_test)\n",
    "print('Number of all data: ', sum([nb_data_train, nb_data_validate, nb_data_test]))"
   ]
  },
  {
   "cell_type": "markdown",
   "metadata": {},
   "source": [
    "### DATASET GENERATOR"
   ]
  },
  {
   "cell_type": "code",
   "execution_count": 23,
   "metadata": {},
   "outputs": [
    {
     "name": "stdout",
     "output_type": "stream",
     "text": [
      "File: ../dataset/id_meta_part_1_translate_80000.txt\n"
     ]
    },
    {
     "ename": "KeyboardInterrupt",
     "evalue": "",
     "output_type": "error",
     "traceback": [
      "\u001b[0;31m---------------------------------------------------------------------------\u001b[0m",
      "\u001b[0;31mKeyboardInterrupt\u001b[0m                         Traceback (most recent call last)",
      "Cell \u001b[0;32mIn[23], line 13\u001b[0m\n\u001b[1;32m     11\u001b[0m text \u001b[38;5;241m=\u001b[39m read_text(file)\n\u001b[1;32m     12\u001b[0m text \u001b[38;5;241m=\u001b[39m preprocessing(text, wordlist)\n\u001b[0;32m---> 13\u001b[0m X_data, X_ngram, y_data \u001b[38;5;241m=\u001b[39m \u001b[43mcreate_dataset\u001b[49m\u001b[43m(\u001b[49m\u001b[43mtext\u001b[49m\u001b[43m,\u001b[49m\u001b[43m \u001b[49m\u001b[43mlook_back\u001b[49m\u001b[43m,\u001b[49m\u001b[43m \u001b[49m\u001b[43mlook_front\u001b[49m\u001b[43m)\u001b[49m\n\u001b[1;32m     14\u001b[0m \u001b[38;5;28mprint\u001b[39m(\u001b[38;5;124mf\u001b[39m\u001b[38;5;124m'\u001b[39m\u001b[38;5;124mNumber of data: \u001b[39m\u001b[38;5;132;01m{\u001b[39;00m\u001b[38;5;28mlen\u001b[39m(X_data)\u001b[38;5;132;01m}\u001b[39;00m\u001b[38;5;124m'\u001b[39m)\n\u001b[1;32m     15\u001b[0m \u001b[38;5;28mprint\u001b[39m(\u001b[38;5;124mf\u001b[39m\u001b[38;5;124m'\u001b[39m\u001b[38;5;124mNumber of ngram: \u001b[39m\u001b[38;5;132;01m{\u001b[39;00m\u001b[38;5;28mlen\u001b[39m(X_ngram)\u001b[38;5;132;01m}\u001b[39;00m\u001b[38;5;124m'\u001b[39m)\n",
      "Cell \u001b[0;32mIn[16], line 61\u001b[0m, in \u001b[0;36mcreate_dataset\u001b[0;34m(text, look_back, look_front)\u001b[0m\n\u001b[1;32m     57\u001b[0m         front_text \u001b[38;5;241m+\u001b[39m\u001b[38;5;241m=\u001b[39m \u001b[38;5;124m'\u001b[39m\u001b[38;5;124m?\u001b[39m\u001b[38;5;124m'\u001b[39m\n\u001b[1;32m     59\u001b[0m     j \u001b[38;5;241m+\u001b[39m\u001b[38;5;241m=\u001b[39m \u001b[38;5;241m1\u001b[39m\n\u001b[0;32m---> 61\u001b[0m ngram_vector \u001b[38;5;241m=\u001b[39m \u001b[43mgenerate_dict_vector\u001b[49m\u001b[43m(\u001b[49m\u001b[43mfront_text\u001b[49m\u001b[43m)\u001b[49m\n\u001b[1;32m     62\u001b[0m X_ngram\u001b[38;5;241m.\u001b[39mappend(ngram_vector)\n\u001b[1;32m     63\u001b[0m X\u001b[38;5;241m.\u001b[39mappend(data)\n",
      "Cell \u001b[0;32mIn[16], line 26\u001b[0m, in \u001b[0;36mgenerate_dict_vector\u001b[0;34m(text)\u001b[0m\n\u001b[1;32m     24\u001b[0m         vect[i] \u001b[38;5;241m=\u001b[39m \u001b[38;5;241m1.0\u001b[39m\n\u001b[1;32m     25\u001b[0m     \u001b[38;5;28;01melse\u001b[39;00m:\n\u001b[0;32m---> 26\u001b[0m         \u001b[43mvect\u001b[49m\u001b[43m[\u001b[49m\u001b[43mi\u001b[49m\u001b[43m]\u001b[49m \u001b[38;5;241m=\u001b[39m \u001b[38;5;241m0.0\u001b[39m\n\u001b[1;32m     28\u001b[0m \u001b[38;5;28;01mreturn\u001b[39;00m vect\n",
      "\u001b[0;31mKeyboardInterrupt\u001b[0m: "
     ]
    }
   ],
   "source": [
    "# TEST DATASET\n",
    "files = file_train\n",
    "look_back = 10\n",
    "look_front = 5\n",
    "copy_files = files.copy()\n",
    "random.shuffle(copy_files)\n",
    "\n",
    "for file in copy_files:\n",
    "    print(f'File: {file}')\n",
    "\n",
    "    text = read_text(file)\n",
    "    text = preprocessing(text, wordlist)\n",
    "    X_data, X_ngram, y_data = create_dataset(text, look_back, look_front)\n",
    "    print(f'Number of data: {len(X_data)}')\n",
    "    print(f'Number of ngram: {len(X_ngram)}')\n",
    "    print(f'Number of target: {len(y_data)}')\n",
    "    X_data, y_data = encode_data(X_data, y_data)\n",
    "    print(f'X_data shape: {X_data.shape}')\n",
    "    print(f'y_data shape: {y_data.shape}')\n",
    "\n",
    "    break"
   ]
  },
  {
   "cell_type": "code",
   "execution_count": 18,
   "metadata": {},
   "outputs": [],
   "source": [
    "def generator(files, wordlist, batch_size=1024, look_back=20, look_front=5, mode='Training', display_=False):\n",
    "    while True:\n",
    "        copy_files = files.copy()\n",
    "        random.shuffle(copy_files)\n",
    "\n",
    "        for file in copy_files:\n",
    "            if display_ is True:\n",
    "                print(f'\\n{mode} file: ' + file)\n",
    "\n",
    "            text = read_text(file)\n",
    "            text = preprocessing(text, wordlist)\n",
    "            X_data, X_ngram, y_data = create_dataset(text, look_back, look_front)\n",
    "            print(f'Number of data: {len(X_data)}')\n",
    "            print(f'Number of ngram: {len(X_ngram)}')\n",
    "            print(f'Number of target: {len(y_data)}')\n",
    "            X_data, y_data = encode_data(X_data, y_data)\n",
    "            print(f'X_data shape: {X_data.shape}')\n",
    "            print(f'y_data shape: {y_data.shape}')\n",
    "\n",
    "            samples_per_epoch  = len(X_data)\n",
    "            number_of_batches = int(math.ceil(samples_per_epoch / batch_size))\n",
    "\n",
    "            for counter in range(number_of_batches):\n",
    "                X_batch = np.array(X_data[batch_size*counter:batch_size*(counter+1)])\n",
    "                X_ngram_batch = np.array(X_ngram[batch_size*counter:batch_size*(counter+1)])\n",
    "                y_batch = np.array(y_data[batch_size*counter:batch_size*(counter+1)])\n",
    "                \n",
    "                yield [X_batch, X_ngram_batch], y_batch"
   ]
  },
  {
   "cell_type": "markdown",
   "metadata": {},
   "source": [
    "### MODEL"
   ]
  },
  {
   "cell_type": "code",
   "execution_count": 19,
   "metadata": {},
   "outputs": [
    {
     "name": "stdout",
     "output_type": "stream",
     "text": [
      "Total params:  9004\n"
     ]
    },
    {
     "name": "stderr",
     "output_type": "stream",
     "text": [
      "2024-06-20 06:43:58.043314: I tensorflow/core/common_runtime/executor.cc:1197] [/device:CPU:0] (DEBUG INFO) Executor start aborting (this does not indicate an error and you can ignore this message): INVALID_ARGUMENT: You must feed a value for placeholder tensor 'gradients/split_2_grad/concat/split_2/split_dim' with dtype int32\n",
      "\t [[{{node gradients/split_2_grad/concat/split_2/split_dim}}]]\n",
      "2024-06-20 06:43:58.044787: I tensorflow/core/common_runtime/executor.cc:1197] [/device:CPU:0] (DEBUG INFO) Executor start aborting (this does not indicate an error and you can ignore this message): INVALID_ARGUMENT: You must feed a value for placeholder tensor 'gradients/split_grad/concat/split/split_dim' with dtype int32\n",
      "\t [[{{node gradients/split_grad/concat/split/split_dim}}]]\n",
      "2024-06-20 06:43:58.045921: I tensorflow/core/common_runtime/executor.cc:1197] [/device:CPU:0] (DEBUG INFO) Executor start aborting (this does not indicate an error and you can ignore this message): INVALID_ARGUMENT: You must feed a value for placeholder tensor 'gradients/split_1_grad/concat/split_1/split_dim' with dtype int32\n",
      "\t [[{{node gradients/split_1_grad/concat/split_1/split_dim}}]]\n"
     ]
    },
    {
     "data": {
      "image/png": "[encoded data removed]",
      "text/plain": [
       "<IPython.core.display.Image object>"
      ]
     },
     "metadata": {},
     "output_type": "display_data"
    }
   ],
   "source": [
    "import tensorflow as tf\n",
    "from tensorflow.keras.models import Sequential\n",
    "from tensorflow.keras.layers import LSTM, Dense, Activation, Bidirectional, Dropout\n",
    "from tensorflow.keras.optimizers import RMSprop\n",
    "from tensorflow.keras.utils import plot_model\n",
    "from IPython.display import Image\n",
    "import copy\n",
    "tf.config.list_physical_devices('GPU')\n",
    "\n",
    "tf.random.set_seed(42)\n",
    "\n",
    "LOOK_BACK = 10\n",
    "LOOK_FRONT = 5\n",
    "batch_size = 1000\n",
    "steps_per_epoch = int(nb_data_train / batch_size)\n",
    "validation_steps = int(nb_data_train / (batch_size * 10))\n",
    "\n",
    "from tensorflow.keras.models import Sequential, Model\n",
    "from tensorflow.keras.layers import GRU, Dense, Layer, Input, Bidirectional, Concatenate, Flatten\n",
    "\n",
    "def define_model(input1, input2):\n",
    "    input1 = Input(shape=input1)\n",
    "    input2 = Input(shape=input2)\n",
    "    gru_output = GRU(32, return_sequences=False)(input1)\n",
    "    flat2 = Flatten()(input2)\n",
    "\n",
    "    concatenated = Concatenate()([gru_output, flat2])\n",
    "    output = Dense(2, activation='softmax')(concatenated)\n",
    "    model = Model(inputs=[input1, input2], outputs=output)\n",
    "    model.compile(loss='categorical_crossentropy', optimizer='rmsprop', metrics=['accuracy'])  # compile\n",
    "\n",
    "    print('Total params: ', model.count_params())\n",
    "    return model\n",
    "\n",
    "\n",
    "    # model = Sequential()\n",
    "    # model.add(Bidirectional(GRU(input1[1]//2, input_shape=input1, return_sequences=False), merge_mode='sum', weights=None, input_shape=input1))\n",
    "    # model.add(Dense(input1[1]//4, activation='linear'))\n",
    "    # model.add(Dense(2, activation='softmax'))\n",
    "    # model.compile(loss='categorical_crossentropy', optimizer='rmsprop', metrics=['accuracy'])  # compile\n",
    "\n",
    "    # print('Total params: ', model.count_params())\n",
    "    # return model\n",
    "\n",
    "\n",
    "input1 = (LOOK_BACK + LOOK_FRONT, len(CHAR_INDICES))\n",
    "input2 = (LOOK_FRONT, 1)\n",
    "model = define_model(input1, input2)  # define model\n",
    "\n",
    "# plot model\n",
    "image_name = '../images/model.png'\n",
    "plot_model(model, image_name, show_shapes=True, show_layer_names=False)\n",
    "display(Image(filename=image_name))"
   ]
  },
  {
   "cell_type": "code",
   "execution_count": 20,
   "metadata": {},
   "outputs": [
    {
     "name": "stdout",
     "output_type": "stream",
     "text": [
      "steps per epoch 4799\n",
      "validation steps 479\n"
     ]
    }
   ],
   "source": [
    "# Generators\n",
    "training_generator = generator(file_train, \n",
    "                               wordlist, \n",
    "                               batch_size, \n",
    "                               look_back=LOOK_BACK,\n",
    "                               look_front=LOOK_FRONT, \n",
    "                               mode='Training')\n",
    "\n",
    "validation_generator = generator(file_validate, \n",
    "                                 wordlist, \n",
    "                                 batch_size, \n",
    "                                 look_back=LOOK_BACK, \n",
    "                                 look_front=LOOK_FRONT, \n",
    "                                 mode='Validation')\n",
    "\n",
    "print('steps per epoch', steps_per_epoch)\n",
    "print('validation steps', validation_steps)"
   ]
  },
  {
   "cell_type": "code",
   "execution_count": 21,
   "metadata": {},
   "outputs": [
    {
     "data": {
      "image/png": "[encoded data removed]",
      "text/plain": [
       "<Figure size 640x480 with 1 Axes>"
      ]
     },
     "metadata": {},
     "output_type": "display_data"
    }
   ],
   "source": [
    "# from keras.callbacks import ModelCheckpoint, LearningRateScheduler\n",
    "from tensorflow.keras.callbacks import ModelCheckpoint, LearningRateScheduler\n",
    "from matplotlib import pyplot as plt\n",
    "\n",
    "# checkpoint\n",
    "filepath=\"../models/model-gru-{epoch:03d}-{accuracy:.4f}.keras\"\n",
    "checkpoint = ModelCheckpoint(filepath, monitor='accuracy', verbose=1, save_best_only=True, mode='max')\n",
    "\n",
    "def step_decay(epoch):\n",
    "    initial_lrate = 0.001\n",
    "    min_lrat = 0.0001\n",
    "    drop_per_epoch = (initial_lrate - min_lrat) / NB_EPOCH\n",
    "    lrate = initial_lrate - (drop_per_epoch * epoch)\n",
    "    return lrate\n",
    "\n",
    "NB_EPOCH = 5\n",
    "lrate = LearningRateScheduler(step_decay)\n",
    "\n",
    "plt.plot([step_decay(i) for i in range(NB_EPOCH)]);\n",
    "plt.savefig('../images/gru-step-decay.png')"
   ]
  },
  {
   "cell_type": "code",
   "execution_count": 22,
   "metadata": {},
   "outputs": [
    {
     "ename": "KeyboardInterrupt",
     "evalue": "",
     "output_type": "error",
     "traceback": [
      "\u001b[0;31m---------------------------------------------------------------------------\u001b[0m",
      "\u001b[0;31mKeyboardInterrupt\u001b[0m                         Traceback (most recent call last)",
      "Cell \u001b[0;32mIn[22], line 3\u001b[0m\n\u001b[1;32m      1\u001b[0m callbacks_list \u001b[38;5;241m=\u001b[39m [checkpoint, lrate]\n\u001b[0;32m----> 3\u001b[0m history \u001b[38;5;241m=\u001b[39m \u001b[43mmodel\u001b[49m\u001b[38;5;241;43m.\u001b[39;49m\u001b[43mfit\u001b[49m\u001b[43m(\u001b[49m\u001b[43mtraining_generator\u001b[49m\u001b[43m,\u001b[49m\n\u001b[1;32m      4\u001b[0m \u001b[43m                    \u001b[49m\u001b[43mvalidation_data\u001b[49m\u001b[38;5;241;43m=\u001b[39;49m\u001b[43mvalidation_generator\u001b[49m\u001b[43m,\u001b[49m\n\u001b[1;32m      5\u001b[0m \u001b[43m                    \u001b[49m\u001b[43msteps_per_epoch\u001b[49m\u001b[38;5;241;43m=\u001b[39;49m\u001b[43msteps_per_epoch\u001b[49m\u001b[43m,\u001b[49m\n\u001b[1;32m      6\u001b[0m \u001b[43m                    \u001b[49m\u001b[43mvalidation_steps\u001b[49m\u001b[38;5;241;43m=\u001b[39;49m\u001b[43mvalidation_steps\u001b[49m\u001b[43m,\u001b[49m\n\u001b[1;32m      7\u001b[0m \u001b[43m                    \u001b[49m\u001b[43mepochs\u001b[49m\u001b[38;5;241;43m=\u001b[39;49m\u001b[43mNB_EPOCH\u001b[49m\u001b[43m,\u001b[49m\n\u001b[1;32m      8\u001b[0m \u001b[43m                    \u001b[49m\u001b[43mverbose\u001b[49m\u001b[38;5;241;43m=\u001b[39;49m\u001b[38;5;241;43m1\u001b[39;49m\u001b[43m,\u001b[49m\n\u001b[1;32m      9\u001b[0m \u001b[43m                    \u001b[49m\u001b[43mcallbacks\u001b[49m\u001b[38;5;241;43m=\u001b[39;49m\u001b[43mcallbacks_list\u001b[49m\u001b[43m)\u001b[49m\n",
      "File \u001b[0;32m~/miniconda3/envs/tf-gpu1/lib/python3.9/site-packages/keras/utils/traceback_utils.py:65\u001b[0m, in \u001b[0;36mfilter_traceback.<locals>.error_handler\u001b[0;34m(*args, **kwargs)\u001b[0m\n\u001b[1;32m     63\u001b[0m filtered_tb \u001b[38;5;241m=\u001b[39m \u001b[38;5;28;01mNone\u001b[39;00m\n\u001b[1;32m     64\u001b[0m \u001b[38;5;28;01mtry\u001b[39;00m:\n\u001b[0;32m---> 65\u001b[0m     \u001b[38;5;28;01mreturn\u001b[39;00m \u001b[43mfn\u001b[49m\u001b[43m(\u001b[49m\u001b[38;5;241;43m*\u001b[39;49m\u001b[43margs\u001b[49m\u001b[43m,\u001b[49m\u001b[43m \u001b[49m\u001b[38;5;241;43m*\u001b[39;49m\u001b[38;5;241;43m*\u001b[39;49m\u001b[43mkwargs\u001b[49m\u001b[43m)\u001b[49m\n\u001b[1;32m     66\u001b[0m \u001b[38;5;28;01mexcept\u001b[39;00m \u001b[38;5;167;01mException\u001b[39;00m \u001b[38;5;28;01mas\u001b[39;00m e:\n\u001b[1;32m     67\u001b[0m     filtered_tb \u001b[38;5;241m=\u001b[39m _process_traceback_frames(e\u001b[38;5;241m.\u001b[39m__traceback__)\n",
      "File \u001b[0;32m~/miniconda3/envs/tf-gpu1/lib/python3.9/site-packages/keras/engine/training.py:1625\u001b[0m, in \u001b[0;36mModel.fit\u001b[0;34m(self, x, y, batch_size, epochs, verbose, callbacks, validation_split, validation_data, shuffle, class_weight, sample_weight, initial_epoch, steps_per_epoch, validation_steps, validation_batch_size, validation_freq, max_queue_size, workers, use_multiprocessing)\u001b[0m\n\u001b[1;32m   1615\u001b[0m     \u001b[38;5;28mself\u001b[39m\u001b[38;5;241m.\u001b[39m_cluster_coordinator \u001b[38;5;241m=\u001b[39m (\n\u001b[1;32m   1616\u001b[0m         tf\u001b[38;5;241m.\u001b[39mdistribute\u001b[38;5;241m.\u001b[39mexperimental\u001b[38;5;241m.\u001b[39mcoordinator\u001b[38;5;241m.\u001b[39mClusterCoordinator(\n\u001b[1;32m   1617\u001b[0m             \u001b[38;5;28mself\u001b[39m\u001b[38;5;241m.\u001b[39mdistribute_strategy\n\u001b[1;32m   1618\u001b[0m         )\n\u001b[1;32m   1619\u001b[0m     )\n\u001b[1;32m   1621\u001b[0m \u001b[38;5;28;01mwith\u001b[39;00m \u001b[38;5;28mself\u001b[39m\u001b[38;5;241m.\u001b[39mdistribute_strategy\u001b[38;5;241m.\u001b[39mscope(), training_utils\u001b[38;5;241m.\u001b[39mRespectCompiledTrainableState(  \u001b[38;5;66;03m# noqa: E501\u001b[39;00m\n\u001b[1;32m   1622\u001b[0m     \u001b[38;5;28mself\u001b[39m\n\u001b[1;32m   1623\u001b[0m ):\n\u001b[1;32m   1624\u001b[0m     \u001b[38;5;66;03m# Creates a `tf.data.Dataset` and handles batch and epoch iteration.\u001b[39;00m\n\u001b[0;32m-> 1625\u001b[0m     data_handler \u001b[38;5;241m=\u001b[39m \u001b[43mdata_adapter\u001b[49m\u001b[38;5;241;43m.\u001b[39;49m\u001b[43mget_data_handler\u001b[49m\u001b[43m(\u001b[49m\n\u001b[1;32m   1626\u001b[0m \u001b[43m        \u001b[49m\u001b[43mx\u001b[49m\u001b[38;5;241;43m=\u001b[39;49m\u001b[43mx\u001b[49m\u001b[43m,\u001b[49m\n\u001b[1;32m   1627\u001b[0m \u001b[43m        \u001b[49m\u001b[43my\u001b[49m\u001b[38;5;241;43m=\u001b[39;49m\u001b[43my\u001b[49m\u001b[43m,\u001b[49m\n\u001b[1;32m   1628\u001b[0m \u001b[43m        \u001b[49m\u001b[43msample_weight\u001b[49m\u001b[38;5;241;43m=\u001b[39;49m\u001b[43msample_weight\u001b[49m\u001b[43m,\u001b[49m\n\u001b[1;32m   1629\u001b[0m \u001b[43m        \u001b[49m\u001b[43mbatch_size\u001b[49m\u001b[38;5;241;43m=\u001b[39;49m\u001b[43mbatch_size\u001b[49m\u001b[43m,\u001b[49m\n\u001b[1;32m   1630\u001b[0m \u001b[43m        \u001b[49m\u001b[43msteps_per_epoch\u001b[49m\u001b[38;5;241;43m=\u001b[39;49m\u001b[43msteps_per_epoch\u001b[49m\u001b[43m,\u001b[49m\n\u001b[1;32m   1631\u001b[0m \u001b[43m        \u001b[49m\u001b[43minitial_epoch\u001b[49m\u001b[38;5;241;43m=\u001b[39;49m\u001b[43minitial_epoch\u001b[49m\u001b[43m,\u001b[49m\n\u001b[1;32m   1632\u001b[0m \u001b[43m        \u001b[49m\u001b[43mepochs\u001b[49m\u001b[38;5;241;43m=\u001b[39;49m\u001b[43mepochs\u001b[49m\u001b[43m,\u001b[49m\n\u001b[1;32m   1633\u001b[0m \u001b[43m        \u001b[49m\u001b[43mshuffle\u001b[49m\u001b[38;5;241;43m=\u001b[39;49m\u001b[43mshuffle\u001b[49m\u001b[43m,\u001b[49m\n\u001b[1;32m   1634\u001b[0m \u001b[43m        \u001b[49m\u001b[43mclass_weight\u001b[49m\u001b[38;5;241;43m=\u001b[39;49m\u001b[43mclass_weight\u001b[49m\u001b[43m,\u001b[49m\n\u001b[1;32m   1635\u001b[0m \u001b[43m        \u001b[49m\u001b[43mmax_queue_size\u001b[49m\u001b[38;5;241;43m=\u001b[39;49m\u001b[43mmax_queue_size\u001b[49m\u001b[43m,\u001b[49m\n\u001b[1;32m   1636\u001b[0m \u001b[43m        \u001b[49m\u001b[43mworkers\u001b[49m\u001b[38;5;241;43m=\u001b[39;49m\u001b[43mworkers\u001b[49m\u001b[43m,\u001b[49m\n\u001b[1;32m   1637\u001b[0m \u001b[43m        \u001b[49m\u001b[43muse_multiprocessing\u001b[49m\u001b[38;5;241;43m=\u001b[39;49m\u001b[43muse_multiprocessing\u001b[49m\u001b[43m,\u001b[49m\n\u001b[1;32m   1638\u001b[0m \u001b[43m        \u001b[49m\u001b[43mmodel\u001b[49m\u001b[38;5;241;43m=\u001b[39;49m\u001b[38;5;28;43mself\u001b[39;49m\u001b[43m,\u001b[49m\n\u001b[1;32m   1639\u001b[0m \u001b[43m        \u001b[49m\u001b[43msteps_per_execution\u001b[49m\u001b[38;5;241;43m=\u001b[39;49m\u001b[38;5;28;43mself\u001b[39;49m\u001b[38;5;241;43m.\u001b[39;49m\u001b[43m_steps_per_execution\u001b[49m\u001b[43m,\u001b[49m\n\u001b[1;32m   1640\u001b[0m \u001b[43m    \u001b[49m\u001b[43m)\u001b[49m\n\u001b[1;32m   1642\u001b[0m     \u001b[38;5;66;03m# Container that configures and calls `tf.keras.Callback`s.\u001b[39;00m\n\u001b[1;32m   1643\u001b[0m     \u001b[38;5;28;01mif\u001b[39;00m \u001b[38;5;129;01mnot\u001b[39;00m \u001b[38;5;28misinstance\u001b[39m(callbacks, callbacks_module\u001b[38;5;241m.\u001b[39mCallbackList):\n",
      "File \u001b[0;32m~/miniconda3/envs/tf-gpu1/lib/python3.9/site-packages/keras/engine/data_adapter.py:1583\u001b[0m, in \u001b[0;36mget_data_handler\u001b[0;34m(*args, **kwargs)\u001b[0m\n\u001b[1;32m   1581\u001b[0m \u001b[38;5;28;01mif\u001b[39;00m \u001b[38;5;28mgetattr\u001b[39m(kwargs[\u001b[38;5;124m\"\u001b[39m\u001b[38;5;124mmodel\u001b[39m\u001b[38;5;124m\"\u001b[39m], \u001b[38;5;124m\"\u001b[39m\u001b[38;5;124m_cluster_coordinator\u001b[39m\u001b[38;5;124m\"\u001b[39m, \u001b[38;5;28;01mNone\u001b[39;00m):\n\u001b[1;32m   1582\u001b[0m     \u001b[38;5;28;01mreturn\u001b[39;00m _ClusterCoordinatorDataHandler(\u001b[38;5;241m*\u001b[39margs, \u001b[38;5;241m*\u001b[39m\u001b[38;5;241m*\u001b[39mkwargs)\n\u001b[0;32m-> 1583\u001b[0m \u001b[38;5;28;01mreturn\u001b[39;00m \u001b[43mDataHandler\u001b[49m\u001b[43m(\u001b[49m\u001b[38;5;241;43m*\u001b[39;49m\u001b[43margs\u001b[49m\u001b[43m,\u001b[49m\u001b[43m \u001b[49m\u001b[38;5;241;43m*\u001b[39;49m\u001b[38;5;241;43m*\u001b[39;49m\u001b[43mkwargs\u001b[49m\u001b[43m)\u001b[49m\n",
      "File \u001b[0;32m~/miniconda3/envs/tf-gpu1/lib/python3.9/site-packages/keras/engine/data_adapter.py:1260\u001b[0m, in \u001b[0;36mDataHandler.__init__\u001b[0;34m(self, x, y, sample_weight, batch_size, steps_per_epoch, initial_epoch, epochs, shuffle, class_weight, max_queue_size, workers, use_multiprocessing, model, steps_per_execution, distribute)\u001b[0m\n\u001b[1;32m   1257\u001b[0m     \u001b[38;5;28mself\u001b[39m\u001b[38;5;241m.\u001b[39m_steps_per_execution \u001b[38;5;241m=\u001b[39m steps_per_execution\n\u001b[1;32m   1259\u001b[0m adapter_cls \u001b[38;5;241m=\u001b[39m select_data_adapter(x, y)\n\u001b[0;32m-> 1260\u001b[0m \u001b[38;5;28mself\u001b[39m\u001b[38;5;241m.\u001b[39m_adapter \u001b[38;5;241m=\u001b[39m \u001b[43madapter_cls\u001b[49m\u001b[43m(\u001b[49m\n\u001b[1;32m   1261\u001b[0m \u001b[43m    \u001b[49m\u001b[43mx\u001b[49m\u001b[43m,\u001b[49m\n\u001b[1;32m   1262\u001b[0m \u001b[43m    \u001b[49m\u001b[43my\u001b[49m\u001b[43m,\u001b[49m\n\u001b[1;32m   1263\u001b[0m \u001b[43m    \u001b[49m\u001b[43mbatch_size\u001b[49m\u001b[38;5;241;43m=\u001b[39;49m\u001b[43mbatch_size\u001b[49m\u001b[43m,\u001b[49m\n\u001b[1;32m   1264\u001b[0m \u001b[43m    \u001b[49m\u001b[43msteps\u001b[49m\u001b[38;5;241;43m=\u001b[39;49m\u001b[43msteps_per_epoch\u001b[49m\u001b[43m,\u001b[49m\n\u001b[1;32m   1265\u001b[0m \u001b[43m    \u001b[49m\u001b[43mepochs\u001b[49m\u001b[38;5;241;43m=\u001b[39;49m\u001b[43mepochs\u001b[49m\u001b[43m \u001b[49m\u001b[38;5;241;43m-\u001b[39;49m\u001b[43m \u001b[49m\u001b[43minitial_epoch\u001b[49m\u001b[43m,\u001b[49m\n\u001b[1;32m   1266\u001b[0m \u001b[43m    \u001b[49m\u001b[43msample_weights\u001b[49m\u001b[38;5;241;43m=\u001b[39;49m\u001b[43msample_weight\u001b[49m\u001b[43m,\u001b[49m\n\u001b[1;32m   1267\u001b[0m \u001b[43m    \u001b[49m\u001b[43mshuffle\u001b[49m\u001b[38;5;241;43m=\u001b[39;49m\u001b[43mshuffle\u001b[49m\u001b[43m,\u001b[49m\n\u001b[1;32m   1268\u001b[0m \u001b[43m    \u001b[49m\u001b[43mmax_queue_size\u001b[49m\u001b[38;5;241;43m=\u001b[39;49m\u001b[43mmax_queue_size\u001b[49m\u001b[43m,\u001b[49m\n\u001b[1;32m   1269\u001b[0m \u001b[43m    \u001b[49m\u001b[43mworkers\u001b[49m\u001b[38;5;241;43m=\u001b[39;49m\u001b[43mworkers\u001b[49m\u001b[43m,\u001b[49m\n\u001b[1;32m   1270\u001b[0m \u001b[43m    \u001b[49m\u001b[43muse_multiprocessing\u001b[49m\u001b[38;5;241;43m=\u001b[39;49m\u001b[43muse_multiprocessing\u001b[49m\u001b[43m,\u001b[49m\n\u001b[1;32m   1271\u001b[0m \u001b[43m    \u001b[49m\u001b[43mdistribution_strategy\u001b[49m\u001b[38;5;241;43m=\u001b[39;49m\u001b[43mtf\u001b[49m\u001b[38;5;241;43m.\u001b[39;49m\u001b[43mdistribute\u001b[49m\u001b[38;5;241;43m.\u001b[39;49m\u001b[43mget_strategy\u001b[49m\u001b[43m(\u001b[49m\u001b[43m)\u001b[49m\u001b[43m,\u001b[49m\n\u001b[1;32m   1272\u001b[0m \u001b[43m    \u001b[49m\u001b[43mmodel\u001b[49m\u001b[38;5;241;43m=\u001b[39;49m\u001b[43mmodel\u001b[49m\u001b[43m,\u001b[49m\n\u001b[1;32m   1273\u001b[0m \u001b[43m\u001b[49m\u001b[43m)\u001b[49m\n\u001b[1;32m   1275\u001b[0m strategy \u001b[38;5;241m=\u001b[39m tf\u001b[38;5;241m.\u001b[39mdistribute\u001b[38;5;241m.\u001b[39mget_strategy()\n\u001b[1;32m   1277\u001b[0m \u001b[38;5;28mself\u001b[39m\u001b[38;5;241m.\u001b[39m_current_step \u001b[38;5;241m=\u001b[39m \u001b[38;5;241m0\u001b[39m\n",
      "File \u001b[0;32m~/miniconda3/envs/tf-gpu1/lib/python3.9/site-packages/keras/engine/data_adapter.py:868\u001b[0m, in \u001b[0;36mGeneratorDataAdapter.__init__\u001b[0;34m(self, x, y, sample_weights, workers, use_multiprocessing, max_queue_size, model, **kwargs)\u001b[0m\n\u001b[1;32m    864\u001b[0m \u001b[38;5;28msuper\u001b[39m()\u001b[38;5;241m.\u001b[39m\u001b[38;5;21m__init__\u001b[39m(x, y, \u001b[38;5;241m*\u001b[39m\u001b[38;5;241m*\u001b[39mkwargs)\n\u001b[1;32m    866\u001b[0m \u001b[38;5;66;03m# Since we have to know the dtype of the python generator when we build\u001b[39;00m\n\u001b[1;32m    867\u001b[0m \u001b[38;5;66;03m# the dataset, we have to look at a batch to infer the structure.\u001b[39;00m\n\u001b[0;32m--> 868\u001b[0m peek, x \u001b[38;5;241m=\u001b[39m \u001b[38;5;28;43mself\u001b[39;49m\u001b[38;5;241;43m.\u001b[39;49m\u001b[43m_peek_and_restore\u001b[49m\u001b[43m(\u001b[49m\u001b[43mx\u001b[49m\u001b[43m)\u001b[49m\n\u001b[1;32m    869\u001b[0m peek \u001b[38;5;241m=\u001b[39m \u001b[38;5;28mself\u001b[39m\u001b[38;5;241m.\u001b[39m_standardize_batch(peek)\n\u001b[1;32m    870\u001b[0m peek \u001b[38;5;241m=\u001b[39m _process_tensorlike(peek)\n",
      "File \u001b[0;32m~/miniconda3/envs/tf-gpu1/lib/python3.9/site-packages/keras/engine/data_adapter.py:934\u001b[0m, in \u001b[0;36mGeneratorDataAdapter._peek_and_restore\u001b[0;34m(x)\u001b[0m\n\u001b[1;32m    932\u001b[0m \u001b[38;5;129m@staticmethod\u001b[39m\n\u001b[1;32m    933\u001b[0m \u001b[38;5;28;01mdef\u001b[39;00m \u001b[38;5;21m_peek_and_restore\u001b[39m(x):\n\u001b[0;32m--> 934\u001b[0m     peek \u001b[38;5;241m=\u001b[39m \u001b[38;5;28;43mnext\u001b[39;49m\u001b[43m(\u001b[49m\u001b[43mx\u001b[49m\u001b[43m)\u001b[49m\n\u001b[1;32m    935\u001b[0m     \u001b[38;5;28;01mreturn\u001b[39;00m peek, itertools\u001b[38;5;241m.\u001b[39mchain([peek], x)\n",
      "Cell \u001b[0;32mIn[18], line 12\u001b[0m, in \u001b[0;36mgenerator\u001b[0;34m(files, wordlist, batch_size, look_back, look_front, mode, display_)\u001b[0m\n\u001b[1;32m     10\u001b[0m text \u001b[38;5;241m=\u001b[39m read_text(file)\n\u001b[1;32m     11\u001b[0m text \u001b[38;5;241m=\u001b[39m preprocessing(text, wordlist)\n\u001b[0;32m---> 12\u001b[0m X_data, X_ngram, y_data \u001b[38;5;241m=\u001b[39m \u001b[43mcreate_dataset\u001b[49m\u001b[43m(\u001b[49m\u001b[43mtext\u001b[49m\u001b[43m,\u001b[49m\u001b[43m \u001b[49m\u001b[43mlook_back\u001b[49m\u001b[43m,\u001b[49m\u001b[43m \u001b[49m\u001b[43mlook_front\u001b[49m\u001b[43m)\u001b[49m\n\u001b[1;32m     13\u001b[0m \u001b[38;5;28mprint\u001b[39m(\u001b[38;5;124mf\u001b[39m\u001b[38;5;124m'\u001b[39m\u001b[38;5;124mNumber of data: \u001b[39m\u001b[38;5;132;01m{\u001b[39;00m\u001b[38;5;28mlen\u001b[39m(X_data)\u001b[38;5;132;01m}\u001b[39;00m\u001b[38;5;124m'\u001b[39m)\n\u001b[1;32m     14\u001b[0m \u001b[38;5;28mprint\u001b[39m(\u001b[38;5;124mf\u001b[39m\u001b[38;5;124m'\u001b[39m\u001b[38;5;124mNumber of ngram: \u001b[39m\u001b[38;5;132;01m{\u001b[39;00m\u001b[38;5;28mlen\u001b[39m(X_ngram)\u001b[38;5;132;01m}\u001b[39;00m\u001b[38;5;124m'\u001b[39m)\n",
      "Cell \u001b[0;32mIn[16], line 61\u001b[0m, in \u001b[0;36mcreate_dataset\u001b[0;34m(text, look_back, look_front)\u001b[0m\n\u001b[1;32m     57\u001b[0m         front_text \u001b[38;5;241m+\u001b[39m\u001b[38;5;241m=\u001b[39m \u001b[38;5;124m'\u001b[39m\u001b[38;5;124m?\u001b[39m\u001b[38;5;124m'\u001b[39m\n\u001b[1;32m     59\u001b[0m     j \u001b[38;5;241m+\u001b[39m\u001b[38;5;241m=\u001b[39m \u001b[38;5;241m1\u001b[39m\n\u001b[0;32m---> 61\u001b[0m ngram_vector \u001b[38;5;241m=\u001b[39m \u001b[43mgenerate_dict_vector\u001b[49m\u001b[43m(\u001b[49m\u001b[43mfront_text\u001b[49m\u001b[43m)\u001b[49m\n\u001b[1;32m     62\u001b[0m X_ngram\u001b[38;5;241m.\u001b[39mappend(ngram_vector)\n\u001b[1;32m     63\u001b[0m X\u001b[38;5;241m.\u001b[39mappend(data)\n",
      "Cell \u001b[0;32mIn[16], line 26\u001b[0m, in \u001b[0;36mgenerate_dict_vector\u001b[0;34m(text)\u001b[0m\n\u001b[1;32m     24\u001b[0m         vect[i] \u001b[38;5;241m=\u001b[39m \u001b[38;5;241m1.0\u001b[39m\n\u001b[1;32m     25\u001b[0m     \u001b[38;5;28;01melse\u001b[39;00m:\n\u001b[0;32m---> 26\u001b[0m         \u001b[43mvect\u001b[49m\u001b[43m[\u001b[49m\u001b[43mi\u001b[49m\u001b[43m]\u001b[49m \u001b[38;5;241m=\u001b[39m \u001b[38;5;241m0.0\u001b[39m\n\u001b[1;32m     28\u001b[0m \u001b[38;5;28;01mreturn\u001b[39;00m vect\n",
      "\u001b[0;31mKeyboardInterrupt\u001b[0m: "
     ]
    }
   ],
   "source": [
    "callbacks_list = [checkpoint, lrate]\n",
    "\n",
    "history = model.fit(training_generator,\n",
    "                    validation_data=validation_generator,\n",
    "                    steps_per_epoch=steps_per_epoch,\n",
    "                    validation_steps=validation_steps,\n",
    "                    epochs=NB_EPOCH,\n",
    "                    verbose=1,\n",
    "                    callbacks=callbacks_list)\n"
   ]
  },
  {
   "cell_type": "code",
   "execution_count": 11,
   "metadata": {},
   "outputs": [],
   "source": [
    "# save history as csv\n",
    "import pandas as pd\n",
    "df = pd.DataFrame(history.history)\n",
    "df.to_csv('../models/history-gru.csv', index=False)"
   ]
  },
  {
   "cell_type": "code",
   "execution_count": null,
   "metadata": {},
   "outputs": [],
   "source": []
  }
 ],
 "metadata": {
  "kernelspec": {
   "display_name": "tf-gpu1",
   "language": "python",
   "name": "python3"
  },
  "language_info": {
   "codemirror_mode": {
    "name": "ipython",
    "version": 3
   },
   "file_extension": ".py",
   "mimetype": "text/x-python",
   "name": "python",
   "nbconvert_exporter": "python",
   "pygments_lexer": "ipython3",
   "version": "3.9.19"
  }
 },
 "nbformat": 4,
 "nbformat_minor": 2
}
